{
 "cells": [
  {
   "cell_type": "markdown",
   "metadata": {},
   "source": [
    "## quadgk(f,a,b,rtol = x) całka z f w przedziale [a,b] próbka co x zwraca pare wynik i max błąd\n",
    "(Niby całka rimana ale trochę oszukuje i przyspiesza)\n",
    "\n",
    "## Ustal ```N``` i wszyskto policzy."
   ]
  },
  {
   "cell_type": "code",
   "execution_count": 79,
   "metadata": {},
   "outputs": [
    {
     "data": {
      "text/plain": [
       "30"
      ]
     },
     "execution_count": 79,
     "metadata": {},
     "output_type": "execute_result"
    }
   ],
   "source": [
    "N=30"
   ]
  },
  {
   "cell_type": "code",
   "execution_count": 80,
   "metadata": {},
   "outputs": [],
   "source": [
    "using QuadGK\n"
   ]
  },
  {
   "cell_type": "code",
   "execution_count": 81,
   "metadata": {},
   "outputs": [],
   "source": [
    "using Printf"
   ]
  },
  {
   "cell_type": "code",
   "execution_count": 82,
   "metadata": {},
   "outputs": [
    {
     "data": {
      "text/plain": [
       "(49.50264642301305, 3.6809598980003244e-9)"
      ]
     },
     "execution_count": 82,
     "metadata": {},
     "output_type": "execute_result"
    }
   ],
   "source": [
    "f(x) = ℯ^atan(x)\n",
    "f2(x) = (1-2x)*(ℯ^atan(x))/(x^2+1)^2\n",
    "f22(x) = f(x)^2\n",
    "quadgk(f22,-5,5,rtol=1e-9)"
   ]
  },
  {
   "cell_type": "code",
   "execution_count": 83,
   "metadata": {},
   "outputs": [
    {
     "name": "stdout",
     "output_type": "stream",
     "text": [
      "(1.000000)x^0 + (1.000052)x^1 + (0.499675)x^2 + (-0.167476)x^3 + (-0.286776)x^4 + (0.045709)x^5 + (0.178723)x^6 + (-0.011516)x^7 + (-0.098825)x^8 + (0.002098)x^9 + (0.042836)x^10 + (-0.000182)x^11 + (-0.013751)x^12 + (-0.000023)x^13 + (0.003207)x^14 + (0.000011)x^15 + (-0.000541)x^16 + (-0.000002)x^17 + (0.000066)x^18 + (0.000000)x^19 + (-0.000006)x^20 + (-0.000000)x^21 + (0.000000)x^22 + (0.000000)x^23 + (-0.000000)x^24 + (-0.000000)x^25 + (0.000000)x^26 + (0.000000)x^27 + (-0.000000)x^28 + (-0.000000)x^29 + (0.000000)x^30 + "
     ]
    }
   ],
   "source": [
    "b = Array{Float64,1}(undef,51)\n",
    "function newton(data,n)\n",
    "    for i in 1:1:n;\n",
    "        b[i] = f(data[i])\n",
    "    end\n",
    "    for i in 2:1:n;\n",
    "        for j in n:-1:i;\n",
    "            b[j] = (b[j] - b[j-1])/(data[j] - data[j-i+1])\n",
    "        end\n",
    "    end\n",
    "end\n",
    "data = Array{Float64,1}(undef,51)\n",
    "    \n",
    "poly = zeros(Float64,51)\n",
    "\n",
    "wsp = zeros(Float64,51,51)\n",
    "\n",
    "wsp[1,1] = 1\n",
    "\n",
    "function wspl(data,n)\n",
    "    for i in 1:1:n\n",
    "        for j in 1:1:i+1\n",
    "            if j <= i wsp[i+1,j] = wsp[i+1,j] + (-data[i])*wsp[i,j] end\n",
    "            if j > 1 wsp[i+1,j] = wsp[i+1,j] + wsp[i,j-1] end\n",
    "        end\n",
    "    end\n",
    "end\n",
    "\n",
    "\n",
    "function lagr(n)\n",
    "    for k in 1:1:n\n",
    "        for j in 1:1:k\n",
    "            poly[j] = poly[j] + b[k]*wsp[k,j]\n",
    "        end\n",
    "    end\n",
    "end\n",
    "\n",
    "\n",
    "function prnt(n)\n",
    "    for i in 1:1:n\n",
    "        @printf(\"(%f)x^%d + \",poly[i],i-1)\n",
    "    end\n",
    "end\n",
    "\n",
    "\n",
    "\n",
    "function Inter(f,n)\n",
    "    next = 10/(n)\n",
    "    for i in 1:1:n+1\n",
    "        data[i] = -5 + next*(i-1)\n",
    "        b[i] = f(data[i])\n",
    "    end\n",
    "    newton(data,n+1)\n",
    "    wspl(data,n+1)\n",
    "    lagr(n+1)\n",
    "    prnt(n+1)\n",
    "end\n",
    "\n",
    "Inter(f,N)"
   ]
  },
  {
   "cell_type": "markdown",
   "metadata": {},
   "source": [
    "#### Znaleziony wielomian w postaci potęgowej"
   ]
  },
  {
   "cell_type": "code",
   "execution_count": 84,
   "metadata": {},
   "outputs": [
    {
     "data": {
      "text/plain": [
       "(4.554539111209381e9, 0.4026208536684386)"
      ]
     },
     "execution_count": 84,
     "metadata": {},
     "output_type": "execute_result"
    }
   ],
   "source": [
    "n=N+1\n",
    "\n",
    "function L(x)\n",
    "    wyn = 0;\n",
    "    for i in 1:1:n \n",
    "        wyn = wyn + poly[i]*x^(i-1)\n",
    "    end\n",
    "    return wyn\n",
    "end\n",
    "\n",
    "function L2(x)\n",
    "    wyn = 0;\n",
    "    for i in 3:1:n \n",
    "        wyn = wyn + poly[i]*(i-1)*(i-2)*x^(i-3)\n",
    "    end\n",
    "    return wyn\n",
    "end\n",
    "\n",
    "L22(x) = L2(x)^2\n",
    "\n",
    "\n",
    "quadgk(L22,-5,5,rtol=1e-10)"
   ]
  },
  {
   "cell_type": "markdown",
   "metadata": {},
   "source": [
    "#### Trochę słaba dokładność bo dla każdej próbki dużo operacji duży wielomian rtol = 1e-13 zabija lapca"
   ]
  },
  {
   "cell_type": "code",
   "execution_count": 86,
   "metadata": {},
   "outputs": [],
   "source": [
    "d = zeros(Float64,51)\n",
    "λ = zeros(Float64,51)\n",
    "function dk(data,n)\n",
    "    for i in 1:1:n;\n",
    "        d[i] = f(data[i])\n",
    "    end\n",
    "    for i in 2:1:3;\n",
    "        for j in n:-1:i;\n",
    "            d[j] = (d[j] - d[j-1])/(data[j] - data[j-i+1])\n",
    "        end\n",
    "    end\n",
    "    for i in 1:1:n d[i] = 6*d[i]\n",
    "    end\n",
    "    for i in 3:1:n λ[i] = (data[i-1]-data[i-2])/(data[i]-data[i-2]) end\n",
    "end\n",
    "\n",
    "p = zeros(Float64,51)\n",
    "u = zeros(Float64,51)\n",
    "q = zeros(Float64,51)\n",
    "M = zeros(Float64,51)\n",
    "function helpers(data,n)\n",
    "    for i in 3:1:n\n",
    "        p[i] = λ[i]*q[i-1] + 2\n",
    "        q[i] = (λ[i]-1)/p[i]\n",
    "        u[i] = (d[i+1] -λ[i]*u[i-1])/p[i]\n",
    "    end\n",
    "    M[n] = u[n]\n",
    "    for i in n-1:-1:3\n",
    "        M[i] = u[i] + q[i]*M[i+1]\n",
    "    end\n",
    "end\n",
    "\n",
    "data = Array{Float64,1}(undef,51)\n",
    "function splain(n)\n",
    "    next = 10/(n)\n",
    "    for i in 1:1:n+1\n",
    "        data[i] = -5 + next*(i-1)\n",
    "        d[i] = f(data[i])\n",
    "    end\n",
    "    dk(data,n+1)\n",
    "    helpers(data,n+1)\n",
    "end\n",
    "\n",
    "splain(N)"
   ]
  },
  {
   "cell_type": "markdown",
   "metadata": {},
   "source": [
    "#### Nie ma strikte wzoru na splaina (sklejaną), ale mamy wszystkie M "
   ]
  },
  {
   "cell_type": "code",
   "execution_count": 87,
   "metadata": {},
   "outputs": [
    {
     "data": {
      "text/plain": [
       "(1.295132491504165, 1.2431607515622207e-9)"
      ]
     },
     "execution_count": 87,
     "metadata": {},
     "output_type": "execute_result"
    }
   ],
   "source": [
    "n = N+1\n",
    "\n",
    "function s2(x)\n",
    "    for i in 1:1:n-1\n",
    "        if x >= data[i] && x <= data[i+1]\n",
    "            return (M[i+2]*(data[i+1]-x) + M[i+3]*(x-data[i]))/(data[i+1]-data[i])\n",
    "        end\n",
    "    end\n",
    "end\n",
    "\n",
    "s22(x) = s2(x)^2\n",
    "quadgk(s22,-5,5,rtol=1e-9)"
   ]
  }
 ],
 "metadata": {
  "@webio": {
   "lastCommId": "e34a2aee1d1447bdbd15fa074c40334f",
   "lastKernelId": "0c6c2c93-6b78-490d-8153-fc1df1e2e0a2"
  },
  "kernelspec": {
   "display_name": "Julia 1.0.1",
   "language": "julia",
   "name": "julia-1.0"
  },
  "language_info": {
   "file_extension": ".jl",
   "mimetype": "application/julia",
   "name": "julia",
   "version": "1.0.1"
  }
 },
 "nbformat": 4,
 "nbformat_minor": 2
}
